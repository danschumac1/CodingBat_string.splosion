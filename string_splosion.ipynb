{
 "cells": [
  {
   "cell_type": "markdown",
   "id": "4ffd92c0",
   "metadata": {},
   "source": [
    "# Warmup-2 > string_splosion\n"
   ]
  },
  {
   "cell_type": "markdown",
   "id": "dc842e7f",
   "metadata": {},
   "source": [
    "Given a non-empty string like \"Code\" return a string like \"CCoCodCode\".\n",
    "\n",
    "\n",
    "string_splosion('Code') → 'CCoCodCode'\n",
    "string_splosion('abc') → 'aababc'\n",
    "string_splosion('ab') → 'aab'"
   ]
  },
  {
   "cell_type": "code",
   "execution_count": null,
   "id": "d3fbc0c3",
   "metadata": {},
   "outputs": [],
   "source": [
    "def string_splosion(str):\n",
    "  n  = 0\n",
    "  new_string = ''\n",
    "  while n<len(str)+1:\n",
    "    new_string += str[0:n]\n",
    "    n+=1\n",
    "  return new_string"
   ]
  }
 ],
 "metadata": {
  "kernelspec": {
   "display_name": "Python 3 (ipykernel)",
   "language": "python",
   "name": "python3"
  },
  "language_info": {
   "codemirror_mode": {
    "name": "ipython",
    "version": 3
   },
   "file_extension": ".py",
   "mimetype": "text/x-python",
   "name": "python",
   "nbconvert_exporter": "python",
   "pygments_lexer": "ipython3",
   "version": "3.9.12"
  }
 },
 "nbformat": 4,
 "nbformat_minor": 5
}
